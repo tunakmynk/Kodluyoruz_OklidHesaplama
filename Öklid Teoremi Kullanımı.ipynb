{
 "cells": [
  {
   "cell_type": "code",
   "execution_count": 1,
   "id": "f9158159-2fe8-46a2-9856-ab8b2461f323",
   "metadata": {},
   "outputs": [],
   "source": [
    "def oklidhesaplama(points):\n",
    "    x1,y1,x2,y2= points\n",
    "    a=x2-x1\n",
    "    b=y2-y1\n",
    "    oklid=(a**2 + b**2)**0.5\n",
    "    return oklid"
   ]
  },
  {
   "cell_type": "code",
   "execution_count": null,
   "id": "d9e6fe6b-63d5-4186-8df6-11dd7f42b108",
   "metadata": {},
   "outputs": [
    {
     "name": "stdout",
     "output_type": "stream",
     "text": [
      "10.0\n"
     ]
    }
   ],
   "source": [
    "print(oklidhesaplama(points))"
   ]
  },
  {
   "cell_type": "code",
   "execution_count": null,
   "id": "780cb128",
   "metadata": {},
   "outputs": [],
   "source": []
  },
  {
   "cell_type": "code",
   "execution_count": null,
   "id": "79a824c4",
   "metadata": {},
   "outputs": [],
   "source": []
  }
 ],
 "metadata": {
  "kernelspec": {
   "display_name": "Python 3 (ipykernel)",
   "language": "python",
   "name": "python3"
  },
  "language_info": {
   "codemirror_mode": {
    "name": "ipython",
    "version": 3
   },
   "file_extension": ".py",
   "mimetype": "text/x-python",
   "name": "python",
   "nbconvert_exporter": "python",
   "pygments_lexer": "ipython3",
   "version": "3.12.4"
  }
 },
 "nbformat": 4,
 "nbformat_minor": 5
}
